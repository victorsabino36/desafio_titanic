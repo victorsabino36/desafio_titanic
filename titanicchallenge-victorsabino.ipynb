{
 "cells": [
  {
   "cell_type": "code",
   "execution_count": 1,
   "id": "1fe7822e",
   "metadata": {
    "_cell_guid": "b1076dfc-b9ad-4769-8c92-a6c4dae69d19",
    "_uuid": "8f2839f25d086af736a60e9eeb907d3b93b6e0e5",
    "execution": {
     "iopub.execute_input": "2025-02-15T19:12:33.391025Z",
     "iopub.status.busy": "2025-02-15T19:12:33.390629Z",
     "iopub.status.idle": "2025-02-15T19:12:34.266789Z",
     "shell.execute_reply": "2025-02-15T19:12:34.265717Z"
    },
    "papermill": {
     "duration": 0.886075,
     "end_time": "2025-02-15T19:12:34.268418",
     "exception": false,
     "start_time": "2025-02-15T19:12:33.382343",
     "status": "completed"
    },
    "tags": []
   },
   "outputs": [
    {
     "name": "stdout",
     "output_type": "stream",
     "text": [
      "/kaggle/input/titanic/train.csv\n",
      "/kaggle/input/titanic/test.csv\n",
      "/kaggle/input/titanic/gender_submission.csv\n"
     ]
    }
   ],
   "source": [
    "# This Python 3 environment comes with many helpful analytics libraries installed\n",
    "# It is defined by the kaggle/python Docker image: https://github.com/kaggle/docker-python\n",
    "# For example, here's several helpful packages to load\n",
    "\n",
    "import numpy as np # linear algebra\n",
    "import pandas as pd # data processing, CSV file I/O (e.g. pd.read_csv)\n",
    "\n",
    "# Input data files are available in the read-only \"../input/\" directory\n",
    "# For example, running this (by clicking run or pressing Shift+Enter) will list all files under the input directory\n",
    "\n",
    "import os\n",
    "for dirname, _, filenames in os.walk('/kaggle/input'):\n",
    "    for filename in filenames:\n",
    "        print(os.path.join(dirname, filename))\n",
    "\n",
    "# You can write up to 20GB to the current directory (/kaggle/working/) that gets preserved as output when you create a version using \"Save & Run All\" \n",
    "# You can also write temporary files to /kaggle/temp/, but they won't be saved outside of the current session"
   ]
  },
  {
   "cell_type": "code",
   "execution_count": 2,
   "id": "7d842fc3",
   "metadata": {
    "execution": {
     "iopub.execute_input": "2025-02-15T19:12:34.282367Z",
     "iopub.status.busy": "2025-02-15T19:12:34.281900Z",
     "iopub.status.idle": "2025-02-15T19:12:34.330599Z",
     "shell.execute_reply": "2025-02-15T19:12:34.329557Z"
    },
    "papermill": {
     "duration": 0.057552,
     "end_time": "2025-02-15T19:12:34.332589",
     "exception": false,
     "start_time": "2025-02-15T19:12:34.275037",
     "status": "completed"
    },
    "tags": []
   },
   "outputs": [
    {
     "data": {
      "text/html": [
       "<div>\n",
       "<style scoped>\n",
       "    .dataframe tbody tr th:only-of-type {\n",
       "        vertical-align: middle;\n",
       "    }\n",
       "\n",
       "    .dataframe tbody tr th {\n",
       "        vertical-align: top;\n",
       "    }\n",
       "\n",
       "    .dataframe thead th {\n",
       "        text-align: right;\n",
       "    }\n",
       "</style>\n",
       "<table border=\"1\" class=\"dataframe\">\n",
       "  <thead>\n",
       "    <tr style=\"text-align: right;\">\n",
       "      <th></th>\n",
       "      <th>PassengerId</th>\n",
       "      <th>Survived</th>\n",
       "      <th>Pclass</th>\n",
       "      <th>Name</th>\n",
       "      <th>Sex</th>\n",
       "      <th>Age</th>\n",
       "      <th>SibSp</th>\n",
       "      <th>Parch</th>\n",
       "      <th>Ticket</th>\n",
       "      <th>Fare</th>\n",
       "      <th>Cabin</th>\n",
       "      <th>Embarked</th>\n",
       "    </tr>\n",
       "  </thead>\n",
       "  <tbody>\n",
       "    <tr>\n",
       "      <th>0</th>\n",
       "      <td>1</td>\n",
       "      <td>0</td>\n",
       "      <td>3</td>\n",
       "      <td>Braund, Mr. Owen Harris</td>\n",
       "      <td>male</td>\n",
       "      <td>22.0</td>\n",
       "      <td>1</td>\n",
       "      <td>0</td>\n",
       "      <td>A/5 21171</td>\n",
       "      <td>7.2500</td>\n",
       "      <td>NaN</td>\n",
       "      <td>S</td>\n",
       "    </tr>\n",
       "    <tr>\n",
       "      <th>1</th>\n",
       "      <td>2</td>\n",
       "      <td>1</td>\n",
       "      <td>1</td>\n",
       "      <td>Cumings, Mrs. John Bradley (Florence Briggs Th...</td>\n",
       "      <td>female</td>\n",
       "      <td>38.0</td>\n",
       "      <td>1</td>\n",
       "      <td>0</td>\n",
       "      <td>PC 17599</td>\n",
       "      <td>71.2833</td>\n",
       "      <td>C85</td>\n",
       "      <td>C</td>\n",
       "    </tr>\n",
       "    <tr>\n",
       "      <th>2</th>\n",
       "      <td>3</td>\n",
       "      <td>1</td>\n",
       "      <td>3</td>\n",
       "      <td>Heikkinen, Miss. Laina</td>\n",
       "      <td>female</td>\n",
       "      <td>26.0</td>\n",
       "      <td>0</td>\n",
       "      <td>0</td>\n",
       "      <td>STON/O2. 3101282</td>\n",
       "      <td>7.9250</td>\n",
       "      <td>NaN</td>\n",
       "      <td>S</td>\n",
       "    </tr>\n",
       "    <tr>\n",
       "      <th>3</th>\n",
       "      <td>4</td>\n",
       "      <td>1</td>\n",
       "      <td>1</td>\n",
       "      <td>Futrelle, Mrs. Jacques Heath (Lily May Peel)</td>\n",
       "      <td>female</td>\n",
       "      <td>35.0</td>\n",
       "      <td>1</td>\n",
       "      <td>0</td>\n",
       "      <td>113803</td>\n",
       "      <td>53.1000</td>\n",
       "      <td>C123</td>\n",
       "      <td>S</td>\n",
       "    </tr>\n",
       "    <tr>\n",
       "      <th>4</th>\n",
       "      <td>5</td>\n",
       "      <td>0</td>\n",
       "      <td>3</td>\n",
       "      <td>Allen, Mr. William Henry</td>\n",
       "      <td>male</td>\n",
       "      <td>35.0</td>\n",
       "      <td>0</td>\n",
       "      <td>0</td>\n",
       "      <td>373450</td>\n",
       "      <td>8.0500</td>\n",
       "      <td>NaN</td>\n",
       "      <td>S</td>\n",
       "    </tr>\n",
       "  </tbody>\n",
       "</table>\n",
       "</div>"
      ],
      "text/plain": [
       "   PassengerId  Survived  Pclass  \\\n",
       "0            1         0       3   \n",
       "1            2         1       1   \n",
       "2            3         1       3   \n",
       "3            4         1       1   \n",
       "4            5         0       3   \n",
       "\n",
       "                                                Name     Sex   Age  SibSp  \\\n",
       "0                            Braund, Mr. Owen Harris    male  22.0      1   \n",
       "1  Cumings, Mrs. John Bradley (Florence Briggs Th...  female  38.0      1   \n",
       "2                             Heikkinen, Miss. Laina  female  26.0      0   \n",
       "3       Futrelle, Mrs. Jacques Heath (Lily May Peel)  female  35.0      1   \n",
       "4                           Allen, Mr. William Henry    male  35.0      0   \n",
       "\n",
       "   Parch            Ticket     Fare Cabin Embarked  \n",
       "0      0         A/5 21171   7.2500   NaN        S  \n",
       "1      0          PC 17599  71.2833   C85        C  \n",
       "2      0  STON/O2. 3101282   7.9250   NaN        S  \n",
       "3      0            113803  53.1000  C123        S  \n",
       "4      0            373450   8.0500   NaN        S  "
      ]
     },
     "execution_count": 2,
     "metadata": {},
     "output_type": "execute_result"
    }
   ],
   "source": [
    "import pandas as pd\n",
    "\n",
    "# Carregar os dados\n",
    "train_data = pd.read_csv('/kaggle/input/titanic/train.csv')\n",
    "test_data = pd.read_csv('/kaggle/input/titanic/test.csv')\n",
    "\n",
    "# Mostrar as primeiras linhas dos dados de treino\n",
    "train_data.head()\n"
   ]
  },
  {
   "cell_type": "code",
   "execution_count": 3,
   "id": "1907c884",
   "metadata": {
    "execution": {
     "iopub.execute_input": "2025-02-15T19:12:34.346571Z",
     "iopub.status.busy": "2025-02-15T19:12:34.346256Z",
     "iopub.status.idle": "2025-02-15T19:12:34.371640Z",
     "shell.execute_reply": "2025-02-15T19:12:34.370529Z"
    },
    "papermill": {
     "duration": 0.0339,
     "end_time": "2025-02-15T19:12:34.373170",
     "exception": false,
     "start_time": "2025-02-15T19:12:34.339270",
     "status": "completed"
    },
    "tags": []
   },
   "outputs": [
    {
     "name": "stdout",
     "output_type": "stream",
     "text": [
      "<class 'pandas.core.frame.DataFrame'>\n",
      "RangeIndex: 891 entries, 0 to 890\n",
      "Data columns (total 12 columns):\n",
      " #   Column       Non-Null Count  Dtype  \n",
      "---  ------       --------------  -----  \n",
      " 0   PassengerId  891 non-null    int64  \n",
      " 1   Survived     891 non-null    int64  \n",
      " 2   Pclass       891 non-null    int64  \n",
      " 3   Name         891 non-null    object \n",
      " 4   Sex          891 non-null    object \n",
      " 5   Age          714 non-null    float64\n",
      " 6   SibSp        891 non-null    int64  \n",
      " 7   Parch        891 non-null    int64  \n",
      " 8   Ticket       891 non-null    object \n",
      " 9   Fare         891 non-null    float64\n",
      " 10  Cabin        204 non-null    object \n",
      " 11  Embarked     889 non-null    object \n",
      "dtypes: float64(2), int64(5), object(5)\n",
      "memory usage: 83.7+ KB\n"
     ]
    }
   ],
   "source": [
    "train_data.info()"
   ]
  },
  {
   "cell_type": "code",
   "execution_count": 4,
   "id": "3c63bac3",
   "metadata": {
    "execution": {
     "iopub.execute_input": "2025-02-15T19:12:34.387196Z",
     "iopub.status.busy": "2025-02-15T19:12:34.386889Z",
     "iopub.status.idle": "2025-02-15T19:12:34.411210Z",
     "shell.execute_reply": "2025-02-15T19:12:34.410327Z"
    },
    "papermill": {
     "duration": 0.032864,
     "end_time": "2025-02-15T19:12:34.412683",
     "exception": false,
     "start_time": "2025-02-15T19:12:34.379819",
     "status": "completed"
    },
    "tags": []
   },
   "outputs": [
    {
     "data": {
      "text/html": [
       "<div>\n",
       "<style scoped>\n",
       "    .dataframe tbody tr th:only-of-type {\n",
       "        vertical-align: middle;\n",
       "    }\n",
       "\n",
       "    .dataframe tbody tr th {\n",
       "        vertical-align: top;\n",
       "    }\n",
       "\n",
       "    .dataframe thead th {\n",
       "        text-align: right;\n",
       "    }\n",
       "</style>\n",
       "<table border=\"1\" class=\"dataframe\">\n",
       "  <thead>\n",
       "    <tr style=\"text-align: right;\">\n",
       "      <th></th>\n",
       "      <th>PassengerId</th>\n",
       "      <th>Survived</th>\n",
       "      <th>Pclass</th>\n",
       "      <th>Age</th>\n",
       "      <th>SibSp</th>\n",
       "      <th>Parch</th>\n",
       "      <th>Fare</th>\n",
       "    </tr>\n",
       "  </thead>\n",
       "  <tbody>\n",
       "    <tr>\n",
       "      <th>count</th>\n",
       "      <td>891.000000</td>\n",
       "      <td>891.000000</td>\n",
       "      <td>891.000000</td>\n",
       "      <td>714.000000</td>\n",
       "      <td>891.000000</td>\n",
       "      <td>891.000000</td>\n",
       "      <td>891.000000</td>\n",
       "    </tr>\n",
       "    <tr>\n",
       "      <th>mean</th>\n",
       "      <td>446.000000</td>\n",
       "      <td>0.383838</td>\n",
       "      <td>2.308642</td>\n",
       "      <td>29.699118</td>\n",
       "      <td>0.523008</td>\n",
       "      <td>0.381594</td>\n",
       "      <td>32.204208</td>\n",
       "    </tr>\n",
       "    <tr>\n",
       "      <th>std</th>\n",
       "      <td>257.353842</td>\n",
       "      <td>0.486592</td>\n",
       "      <td>0.836071</td>\n",
       "      <td>14.526497</td>\n",
       "      <td>1.102743</td>\n",
       "      <td>0.806057</td>\n",
       "      <td>49.693429</td>\n",
       "    </tr>\n",
       "    <tr>\n",
       "      <th>min</th>\n",
       "      <td>1.000000</td>\n",
       "      <td>0.000000</td>\n",
       "      <td>1.000000</td>\n",
       "      <td>0.420000</td>\n",
       "      <td>0.000000</td>\n",
       "      <td>0.000000</td>\n",
       "      <td>0.000000</td>\n",
       "    </tr>\n",
       "    <tr>\n",
       "      <th>25%</th>\n",
       "      <td>223.500000</td>\n",
       "      <td>0.000000</td>\n",
       "      <td>2.000000</td>\n",
       "      <td>20.125000</td>\n",
       "      <td>0.000000</td>\n",
       "      <td>0.000000</td>\n",
       "      <td>7.910400</td>\n",
       "    </tr>\n",
       "    <tr>\n",
       "      <th>50%</th>\n",
       "      <td>446.000000</td>\n",
       "      <td>0.000000</td>\n",
       "      <td>3.000000</td>\n",
       "      <td>28.000000</td>\n",
       "      <td>0.000000</td>\n",
       "      <td>0.000000</td>\n",
       "      <td>14.454200</td>\n",
       "    </tr>\n",
       "    <tr>\n",
       "      <th>75%</th>\n",
       "      <td>668.500000</td>\n",
       "      <td>1.000000</td>\n",
       "      <td>3.000000</td>\n",
       "      <td>38.000000</td>\n",
       "      <td>1.000000</td>\n",
       "      <td>0.000000</td>\n",
       "      <td>31.000000</td>\n",
       "    </tr>\n",
       "    <tr>\n",
       "      <th>max</th>\n",
       "      <td>891.000000</td>\n",
       "      <td>1.000000</td>\n",
       "      <td>3.000000</td>\n",
       "      <td>80.000000</td>\n",
       "      <td>8.000000</td>\n",
       "      <td>6.000000</td>\n",
       "      <td>512.329200</td>\n",
       "    </tr>\n",
       "  </tbody>\n",
       "</table>\n",
       "</div>"
      ],
      "text/plain": [
       "       PassengerId    Survived      Pclass         Age       SibSp  \\\n",
       "count   891.000000  891.000000  891.000000  714.000000  891.000000   \n",
       "mean    446.000000    0.383838    2.308642   29.699118    0.523008   \n",
       "std     257.353842    0.486592    0.836071   14.526497    1.102743   \n",
       "min       1.000000    0.000000    1.000000    0.420000    0.000000   \n",
       "25%     223.500000    0.000000    2.000000   20.125000    0.000000   \n",
       "50%     446.000000    0.000000    3.000000   28.000000    0.000000   \n",
       "75%     668.500000    1.000000    3.000000   38.000000    1.000000   \n",
       "max     891.000000    1.000000    3.000000   80.000000    8.000000   \n",
       "\n",
       "            Parch        Fare  \n",
       "count  891.000000  891.000000  \n",
       "mean     0.381594   32.204208  \n",
       "std      0.806057   49.693429  \n",
       "min      0.000000    0.000000  \n",
       "25%      0.000000    7.910400  \n",
       "50%      0.000000   14.454200  \n",
       "75%      0.000000   31.000000  \n",
       "max      6.000000  512.329200  "
      ]
     },
     "execution_count": 4,
     "metadata": {},
     "output_type": "execute_result"
    }
   ],
   "source": [
    "train_data.describe()"
   ]
  },
  {
   "cell_type": "code",
   "execution_count": 5,
   "id": "5bdc6624",
   "metadata": {
    "execution": {
     "iopub.execute_input": "2025-02-15T19:12:34.427102Z",
     "iopub.status.busy": "2025-02-15T19:12:34.426796Z",
     "iopub.status.idle": "2025-02-15T19:12:34.433720Z",
     "shell.execute_reply": "2025-02-15T19:12:34.432805Z"
    },
    "papermill": {
     "duration": 0.015517,
     "end_time": "2025-02-15T19:12:34.435070",
     "exception": false,
     "start_time": "2025-02-15T19:12:34.419553",
     "status": "completed"
    },
    "tags": []
   },
   "outputs": [
    {
     "data": {
      "text/plain": [
       "PassengerId      0\n",
       "Survived         0\n",
       "Pclass           0\n",
       "Name             0\n",
       "Sex              0\n",
       "Age            177\n",
       "SibSp            0\n",
       "Parch            0\n",
       "Ticket           0\n",
       "Fare             0\n",
       "Cabin          687\n",
       "Embarked         2\n",
       "dtype: int64"
      ]
     },
     "execution_count": 5,
     "metadata": {},
     "output_type": "execute_result"
    }
   ],
   "source": [
    "train_data.isnull().sum()"
   ]
  },
  {
   "cell_type": "code",
   "execution_count": 6,
   "id": "95e630b0",
   "metadata": {
    "execution": {
     "iopub.execute_input": "2025-02-15T19:12:34.449665Z",
     "iopub.status.busy": "2025-02-15T19:12:34.449383Z",
     "iopub.status.idle": "2025-02-15T19:12:36.286424Z",
     "shell.execute_reply": "2025-02-15T19:12:36.285457Z"
    },
    "papermill": {
     "duration": 1.846247,
     "end_time": "2025-02-15T19:12:36.288175",
     "exception": false,
     "start_time": "2025-02-15T19:12:34.441928",
     "status": "completed"
    },
    "tags": []
   },
   "outputs": [
    {
     "data": {
      "image/png": "[encoded data removed]",
      "text/plain": [
       "<Figure size 640x480 with 1 Axes>"
      ]
     },
     "metadata": {},
     "output_type": "display_data"
    }
   ],
   "source": [
    "import seaborn as sns\n",
    "import matplotlib.pyplot as plt\n",
    "\n",
    "# Contagem de sobreviventes\n",
    "sns.countplot(x='Survived', data=train_data)\n",
    "plt.title('Distribuição de Sobreviventes')\n",
    "plt.show()\n"
   ]
  },
  {
   "cell_type": "code",
   "execution_count": 7,
   "id": "087674f9",
   "metadata": {
    "execution": {
     "iopub.execute_input": "2025-02-15T19:12:36.304500Z",
     "iopub.status.busy": "2025-02-15T19:12:36.304043Z",
     "iopub.status.idle": "2025-02-15T19:12:36.877559Z",
     "shell.execute_reply": "2025-02-15T19:12:36.876531Z"
    },
    "papermill": {
     "duration": 0.58335,
     "end_time": "2025-02-15T19:12:36.879202",
     "exception": false,
     "start_time": "2025-02-15T19:12:36.295852",
     "status": "completed"
    },
    "tags": []
   },
   "outputs": [
    {
     "name": "stderr",
     "output_type": "stream",
     "text": [
      "/usr/local/lib/python3.10/dist-packages/seaborn/_oldcore.py:1119: FutureWarning: use_inf_as_na option is deprecated and will be removed in a future version. Convert inf values to NaN before operating instead.\n",
      "  with pd.option_context('mode.use_inf_as_na', True):\n"
     ]
    },
    {
     "data": {
      "image/png": "[encoded data removed]",
      "text/plain": [
       "<Figure size 640x480 with 1 Axes>"
      ]
     },
     "metadata": {},
     "output_type": "display_data"
    },
    {
     "name": "stderr",
     "output_type": "stream",
     "text": [
      "/usr/local/lib/python3.10/dist-packages/seaborn/_oldcore.py:1119: FutureWarning: use_inf_as_na option is deprecated and will be removed in a future version. Convert inf values to NaN before operating instead.\n",
      "  with pd.option_context('mode.use_inf_as_na', True):\n"
     ]
    },
    {
     "data": {
      "image/png": "[encoded data removed]",
      "text/plain": [
       "<Figure size 640x480 with 1 Axes>"
      ]
     },
     "metadata": {},
     "output_type": "display_data"
    }
   ],
   "source": [
    "# Distribuição de idade\n",
    "sns.histplot(train_data['Age'].dropna(), kde=True)\n",
    "plt.title('Distribuição de Idade')\n",
    "plt.show()\n",
    "\n",
    "# Distribuição de tarifa\n",
    "sns.histplot(train_data['Fare'], kde=True)\n",
    "plt.title('Distribuição de Tarifa')\n",
    "plt.show()\n"
   ]
  },
  {
   "cell_type": "code",
   "execution_count": 8,
   "id": "db7a55ed",
   "metadata": {
    "execution": {
     "iopub.execute_input": "2025-02-15T19:12:36.897645Z",
     "iopub.status.busy": "2025-02-15T19:12:36.897350Z",
     "iopub.status.idle": "2025-02-15T19:12:37.408301Z",
     "shell.execute_reply": "2025-02-15T19:12:37.407197Z"
    },
    "papermill": {
     "duration": 0.522071,
     "end_time": "2025-02-15T19:12:37.409911",
     "exception": false,
     "start_time": "2025-02-15T19:12:36.887840",
     "status": "completed"
    },
    "tags": []
   },
   "outputs": [
    {
     "data": {
      "image/png": "[encoded data removed]",
      "text/plain": [
       "<Figure size 640x480 with 1 Axes>"
      ]
     },
     "metadata": {},
     "output_type": "display_data"
    },
    {
     "data": {
      "image/png": "[encoded data removed]",
      "text/plain": [
       "<Figure size 640x480 with 1 Axes>"
      ]
     },
     "metadata": {},
     "output_type": "display_data"
    },
    {
     "data": {
      "image/png": "[encoded data removed]",
      "text/plain": [
       "<Figure size 640x480 with 1 Axes>"
      ]
     },
     "metadata": {},
     "output_type": "display_data"
    }
   ],
   "source": [
    "# Sobrevivência por classe de passageiro\n",
    "sns.countplot(x='Pclass', hue='Survived', data=train_data)\n",
    "plt.title('Sobrevivência por Classe')\n",
    "plt.show()\n",
    "\n",
    "# Sobrevivência por sexo\n",
    "sns.countplot(x='Sex', hue='Survived', data=train_data)\n",
    "plt.title('Sobrevivência por Sexo')\n",
    "plt.show()\n",
    "\n",
    "# Sobrevivência por porto de embarque\n",
    "sns.countplot(x='Embarked', hue='Survived', data=train_data)\n",
    "plt.title('Sobrevivência por Porto de Embarque')\n",
    "plt.show()\n"
   ]
  },
  {
   "cell_type": "code",
   "execution_count": 9,
   "id": "8816d9ff",
   "metadata": {
    "execution": {
     "iopub.execute_input": "2025-02-15T19:12:37.430505Z",
     "iopub.status.busy": "2025-02-15T19:12:37.430203Z",
     "iopub.status.idle": "2025-02-15T19:12:37.433832Z",
     "shell.execute_reply": "2025-02-15T19:12:37.433026Z"
    },
    "papermill": {
     "duration": 0.015596,
     "end_time": "2025-02-15T19:12:37.435522",
     "exception": false,
     "start_time": "2025-02-15T19:12:37.419926",
     "status": "completed"
    },
    "tags": []
   },
   "outputs": [],
   "source": [
    "#Tratamento e processamento dos dados "
   ]
  },
  {
   "cell_type": "code",
   "execution_count": 10,
   "id": "1297f75e",
   "metadata": {
    "execution": {
     "iopub.execute_input": "2025-02-15T19:12:37.455741Z",
     "iopub.status.busy": "2025-02-15T19:12:37.455416Z",
     "iopub.status.idle": "2025-02-15T19:12:37.460817Z",
     "shell.execute_reply": "2025-02-15T19:12:37.459811Z"
    },
    "papermill": {
     "duration": 0.017408,
     "end_time": "2025-02-15T19:12:37.462605",
     "exception": false,
     "start_time": "2025-02-15T19:12:37.445197",
     "status": "completed"
    },
    "tags": []
   },
   "outputs": [
    {
     "name": "stderr",
     "output_type": "stream",
     "text": [
      "<ipython-input-10-f050d84d189b>:1: FutureWarning: A value is trying to be set on a copy of a DataFrame or Series through chained assignment using an inplace method.\n",
      "The behavior will change in pandas 3.0. This inplace method will never work because the intermediate object on which we are setting values always behaves as a copy.\n",
      "\n",
      "For example, when doing 'df[col].method(value, inplace=True)', try using 'df.method({col: value}, inplace=True)' or df[col] = df[col].method(value) instead, to perform the operation inplace on the original object.\n",
      "\n",
      "\n",
      "  train_data['Age'].fillna(train_data['Age'].median(), inplace=True)\n"
     ]
    }
   ],
   "source": [
    "train_data['Age'].fillna(train_data['Age'].median(), inplace=True)"
   ]
  },
  {
   "cell_type": "code",
   "execution_count": 11,
   "id": "aa9aad37",
   "metadata": {
    "execution": {
     "iopub.execute_input": "2025-02-15T19:12:37.482991Z",
     "iopub.status.busy": "2025-02-15T19:12:37.482680Z",
     "iopub.status.idle": "2025-02-15T19:12:37.488380Z",
     "shell.execute_reply": "2025-02-15T19:12:37.487344Z"
    },
    "papermill": {
     "duration": 0.017363,
     "end_time": "2025-02-15T19:12:37.489923",
     "exception": false,
     "start_time": "2025-02-15T19:12:37.472560",
     "status": "completed"
    },
    "tags": []
   },
   "outputs": [
    {
     "name": "stderr",
     "output_type": "stream",
     "text": [
      "<ipython-input-11-bd75546bd0a8>:2: FutureWarning: A value is trying to be set on a copy of a DataFrame or Series through chained assignment using an inplace method.\n",
      "The behavior will change in pandas 3.0. This inplace method will never work because the intermediate object on which we are setting values always behaves as a copy.\n",
      "\n",
      "For example, when doing 'df[col].method(value, inplace=True)', try using 'df.method({col: value}, inplace=True)' or df[col] = df[col].method(value) instead, to perform the operation inplace on the original object.\n",
      "\n",
      "\n",
      "  train_data['Embarked'].fillna(train_data['Embarked'].mode()[0], inplace=True)\n"
     ]
    }
   ],
   "source": [
    "# Preencher valores nulos com o valor mais frequente (moda)\n",
    "train_data['Embarked'].fillna(train_data['Embarked'].mode()[0], inplace=True)\n"
   ]
  },
  {
   "cell_type": "code",
   "execution_count": 12,
   "id": "16141940",
   "metadata": {
    "execution": {
     "iopub.execute_input": "2025-02-15T19:12:37.510331Z",
     "iopub.status.busy": "2025-02-15T19:12:37.510015Z",
     "iopub.status.idle": "2025-02-15T19:12:37.518840Z",
     "shell.execute_reply": "2025-02-15T19:12:37.517947Z"
    },
    "papermill": {
     "duration": 0.020591,
     "end_time": "2025-02-15T19:12:37.520325",
     "exception": false,
     "start_time": "2025-02-15T19:12:37.499734",
     "status": "completed"
    },
    "tags": []
   },
   "outputs": [],
   "source": [
    "train_data.drop('Cabin',axis=1, inplace=True)\n",
    "train_data.drop('Name',axis=1, inplace=True)\n",
    "train_data.drop('Ticket',axis=1, inplace=True)"
   ]
  },
  {
   "cell_type": "code",
   "execution_count": 13,
   "id": "5eb64001",
   "metadata": {
    "execution": {
     "iopub.execute_input": "2025-02-15T19:12:37.540824Z",
     "iopub.status.busy": "2025-02-15T19:12:37.540531Z",
     "iopub.status.idle": "2025-02-15T19:12:37.779023Z",
     "shell.execute_reply": "2025-02-15T19:12:37.778100Z"
    },
    "papermill": {
     "duration": 0.250828,
     "end_time": "2025-02-15T19:12:37.780838",
     "exception": false,
     "start_time": "2025-02-15T19:12:37.530010",
     "status": "completed"
    },
    "tags": []
   },
   "outputs": [],
   "source": [
    "from sklearn.preprocessing import LabelEncoder\n",
    "train_data = pd.get_dummies(train_data, columns=['Embarked'], drop_first=False)"
   ]
  },
  {
   "cell_type": "code",
   "execution_count": 14,
   "id": "3fe308c4",
   "metadata": {
    "execution": {
     "iopub.execute_input": "2025-02-15T19:12:37.803468Z",
     "iopub.status.busy": "2025-02-15T19:12:37.803123Z",
     "iopub.status.idle": "2025-02-15T19:12:37.809027Z",
     "shell.execute_reply": "2025-02-15T19:12:37.808267Z"
    },
    "papermill": {
     "duration": 0.018606,
     "end_time": "2025-02-15T19:12:37.810569",
     "exception": false,
     "start_time": "2025-02-15T19:12:37.791963",
     "status": "completed"
    },
    "tags": []
   },
   "outputs": [],
   "source": [
    "# Converter True/False para 0/1 nas colunas de Embarked\n",
    "train_data[['Embarked_C', 'Embarked_Q', 'Embarked_S']] = train_data[['Embarked_C', 'Embarked_Q', 'Embarked_S']].astype(int)\n"
   ]
  },
  {
   "cell_type": "code",
   "execution_count": 15,
   "id": "97604f82",
   "metadata": {
    "execution": {
     "iopub.execute_input": "2025-02-15T19:12:37.830771Z",
     "iopub.status.busy": "2025-02-15T19:12:37.830478Z",
     "iopub.status.idle": "2025-02-15T19:12:37.835362Z",
     "shell.execute_reply": "2025-02-15T19:12:37.834500Z"
    },
    "papermill": {
     "duration": 0.016483,
     "end_time": "2025-02-15T19:12:37.836818",
     "exception": false,
     "start_time": "2025-02-15T19:12:37.820335",
     "status": "completed"
    },
    "tags": []
   },
   "outputs": [],
   "source": [
    "# Converter 'Sex' para 0 e 1 (0 para male, 1 para female)\n",
    "train_data['Sex'] = train_data['Sex'].map({'male': 0, 'female': 1})\n"
   ]
  },
  {
   "cell_type": "code",
   "execution_count": 16,
   "id": "999c81da",
   "metadata": {
    "execution": {
     "iopub.execute_input": "2025-02-15T19:12:37.857335Z",
     "iopub.status.busy": "2025-02-15T19:12:37.857030Z",
     "iopub.status.idle": "2025-02-15T19:12:37.868497Z",
     "shell.execute_reply": "2025-02-15T19:12:37.867590Z"
    },
    "papermill": {
     "duration": 0.023204,
     "end_time": "2025-02-15T19:12:37.869894",
     "exception": false,
     "start_time": "2025-02-15T19:12:37.846690",
     "status": "completed"
    },
    "tags": []
   },
   "outputs": [
    {
     "data": {
      "text/html": [
       "<div>\n",
       "<style scoped>\n",
       "    .dataframe tbody tr th:only-of-type {\n",
       "        vertical-align: middle;\n",
       "    }\n",
       "\n",
       "    .dataframe tbody tr th {\n",
       "        vertical-align: top;\n",
       "    }\n",
       "\n",
       "    .dataframe thead th {\n",
       "        text-align: right;\n",
       "    }\n",
       "</style>\n",
       "<table border=\"1\" class=\"dataframe\">\n",
       "  <thead>\n",
       "    <tr style=\"text-align: right;\">\n",
       "      <th></th>\n",
       "      <th>PassengerId</th>\n",
       "      <th>Survived</th>\n",
       "      <th>Pclass</th>\n",
       "      <th>Sex</th>\n",
       "      <th>Age</th>\n",
       "      <th>SibSp</th>\n",
       "      <th>Parch</th>\n",
       "      <th>Fare</th>\n",
       "      <th>Embarked_C</th>\n",
       "      <th>Embarked_Q</th>\n",
       "      <th>Embarked_S</th>\n",
       "    </tr>\n",
       "  </thead>\n",
       "  <tbody>\n",
       "    <tr>\n",
       "      <th>0</th>\n",
       "      <td>1</td>\n",
       "      <td>0</td>\n",
       "      <td>3</td>\n",
       "      <td>0</td>\n",
       "      <td>22.0</td>\n",
       "      <td>1</td>\n",
       "      <td>0</td>\n",
       "      <td>7.2500</td>\n",
       "      <td>0</td>\n",
       "      <td>0</td>\n",
       "      <td>1</td>\n",
       "    </tr>\n",
       "    <tr>\n",
       "      <th>1</th>\n",
       "      <td>2</td>\n",
       "      <td>1</td>\n",
       "      <td>1</td>\n",
       "      <td>1</td>\n",
       "      <td>38.0</td>\n",
       "      <td>1</td>\n",
       "      <td>0</td>\n",
       "      <td>71.2833</td>\n",
       "      <td>1</td>\n",
       "      <td>0</td>\n",
       "      <td>0</td>\n",
       "    </tr>\n",
       "    <tr>\n",
       "      <th>2</th>\n",
       "      <td>3</td>\n",
       "      <td>1</td>\n",
       "      <td>3</td>\n",
       "      <td>1</td>\n",
       "      <td>26.0</td>\n",
       "      <td>0</td>\n",
       "      <td>0</td>\n",
       "      <td>7.9250</td>\n",
       "      <td>0</td>\n",
       "      <td>0</td>\n",
       "      <td>1</td>\n",
       "    </tr>\n",
       "    <tr>\n",
       "      <th>3</th>\n",
       "      <td>4</td>\n",
       "      <td>1</td>\n",
       "      <td>1</td>\n",
       "      <td>1</td>\n",
       "      <td>35.0</td>\n",
       "      <td>1</td>\n",
       "      <td>0</td>\n",
       "      <td>53.1000</td>\n",
       "      <td>0</td>\n",
       "      <td>0</td>\n",
       "      <td>1</td>\n",
       "    </tr>\n",
       "    <tr>\n",
       "      <th>4</th>\n",
       "      <td>5</td>\n",
       "      <td>0</td>\n",
       "      <td>3</td>\n",
       "      <td>0</td>\n",
       "      <td>35.0</td>\n",
       "      <td>0</td>\n",
       "      <td>0</td>\n",
       "      <td>8.0500</td>\n",
       "      <td>0</td>\n",
       "      <td>0</td>\n",
       "      <td>1</td>\n",
       "    </tr>\n",
       "  </tbody>\n",
       "</table>\n",
       "</div>"
      ],
      "text/plain": [
       "   PassengerId  Survived  Pclass  Sex   Age  SibSp  Parch     Fare  \\\n",
       "0            1         0       3    0  22.0      1      0   7.2500   \n",
       "1            2         1       1    1  38.0      1      0  71.2833   \n",
       "2            3         1       3    1  26.0      0      0   7.9250   \n",
       "3            4         1       1    1  35.0      1      0  53.1000   \n",
       "4            5         0       3    0  35.0      0      0   8.0500   \n",
       "\n",
       "   Embarked_C  Embarked_Q  Embarked_S  \n",
       "0           0           0           1  \n",
       "1           1           0           0  \n",
       "2           0           0           1  \n",
       "3           0           0           1  \n",
       "4           0           0           1  "
      ]
     },
     "execution_count": 16,
     "metadata": {},
     "output_type": "execute_result"
    }
   ],
   "source": [
    "train_data.head()"
   ]
  },
  {
   "cell_type": "code",
   "execution_count": 17,
   "id": "f58b1187",
   "metadata": {
    "execution": {
     "iopub.execute_input": "2025-02-15T19:12:37.890724Z",
     "iopub.status.busy": "2025-02-15T19:12:37.890423Z",
     "iopub.status.idle": "2025-02-15T19:12:37.897383Z",
     "shell.execute_reply": "2025-02-15T19:12:37.896482Z"
    },
    "papermill": {
     "duration": 0.018822,
     "end_time": "2025-02-15T19:12:37.898784",
     "exception": false,
     "start_time": "2025-02-15T19:12:37.879962",
     "status": "completed"
    },
    "tags": []
   },
   "outputs": [
    {
     "data": {
      "text/plain": [
       "PassengerId    0\n",
       "Survived       0\n",
       "Pclass         0\n",
       "Sex            0\n",
       "Age            0\n",
       "SibSp          0\n",
       "Parch          0\n",
       "Fare           0\n",
       "Embarked_C     0\n",
       "Embarked_Q     0\n",
       "Embarked_S     0\n",
       "dtype: int64"
      ]
     },
     "execution_count": 17,
     "metadata": {},
     "output_type": "execute_result"
    }
   ],
   "source": [
    "train_data.isnull().sum()"
   ]
  },
  {
   "cell_type": "code",
   "execution_count": 18,
   "id": "ccc5c08e",
   "metadata": {
    "execution": {
     "iopub.execute_input": "2025-02-15T19:12:37.919866Z",
     "iopub.status.busy": "2025-02-15T19:12:37.919574Z",
     "iopub.status.idle": "2025-02-15T19:12:37.923895Z",
     "shell.execute_reply": "2025-02-15T19:12:37.922873Z"
    },
    "papermill": {
     "duration": 0.016546,
     "end_time": "2025-02-15T19:12:37.925370",
     "exception": false,
     "start_time": "2025-02-15T19:12:37.908824",
     "status": "completed"
    },
    "tags": []
   },
   "outputs": [],
   "source": [
    "# Definir as colunas que serão usadas como features\n",
    "features = ['Pclass', 'Sex', 'Age', 'SibSp', 'Parch', 'Fare', 'Embarked_C', 'Embarked_Q', 'Embarked_S']\n",
    "\n",
    "# Definir a variável target (rótulo)\n",
    "target = 'Survived'\n"
   ]
  },
  {
   "cell_type": "code",
   "execution_count": 19,
   "id": "353f18e3",
   "metadata": {
    "execution": {
     "iopub.execute_input": "2025-02-15T19:12:37.946362Z",
     "iopub.status.busy": "2025-02-15T19:12:37.946070Z",
     "iopub.status.idle": "2025-02-15T19:12:37.951112Z",
     "shell.execute_reply": "2025-02-15T19:12:37.950241Z"
    },
    "papermill": {
     "duration": 0.017038,
     "end_time": "2025-02-15T19:12:37.952482",
     "exception": false,
     "start_time": "2025-02-15T19:12:37.935444",
     "status": "completed"
    },
    "tags": []
   },
   "outputs": [],
   "source": [
    "X_train = train_data[features]\n",
    "y_train = train_data[target]\n"
   ]
  },
  {
   "cell_type": "code",
   "execution_count": 20,
   "id": "991c94a6",
   "metadata": {
    "execution": {
     "iopub.execute_input": "2025-02-15T19:12:37.973119Z",
     "iopub.status.busy": "2025-02-15T19:12:37.972817Z",
     "iopub.status.idle": "2025-02-15T19:12:38.646616Z",
     "shell.execute_reply": "2025-02-15T19:12:38.645618Z"
    },
    "papermill": {
     "duration": 0.685765,
     "end_time": "2025-02-15T19:12:38.648165",
     "exception": false,
     "start_time": "2025-02-15T19:12:37.962400",
     "status": "completed"
    },
    "tags": []
   },
   "outputs": [
    {
     "data": {
      "text/html": [
       "<style>#sk-container-id-1 {color: black;background-color: white;}#sk-container-id-1 pre{padding: 0;}#sk-container-id-1 div.sk-toggleable {background-color: white;}#sk-container-id-1 label.sk-toggleable__label {cursor: pointer;display: block;width: 100%;margin-bottom: 0;padding: 0.3em;box-sizing: border-box;text-align: center;}#sk-container-id-1 label.sk-toggleable__label-arrow:before {content: \"▸\";float: left;margin-right: 0.25em;color: #696969;}#sk-container-id-1 label.sk-toggleable__label-arrow:hover:before {color: black;}#sk-container-id-1 div.sk-estimator:hover label.sk-toggleable__label-arrow:before {color: black;}#sk-container-id-1 div.sk-toggleable__content {max-height: 0;max-width: 0;overflow: hidden;text-align: left;background-color: #f0f8ff;}#sk-container-id-1 div.sk-toggleable__content pre {margin: 0.2em;color: black;border-radius: 0.25em;background-color: #f0f8ff;}#sk-container-id-1 input.sk-toggleable__control:checked~div.sk-toggleable__content {max-height: 200px;max-width: 100%;overflow: auto;}#sk-container-id-1 input.sk-toggleable__control:checked~label.sk-toggleable__label-arrow:before {content: \"▾\";}#sk-container-id-1 div.sk-estimator input.sk-toggleable__control:checked~label.sk-toggleable__label {background-color: #d4ebff;}#sk-container-id-1 div.sk-label input.sk-toggleable__control:checked~label.sk-toggleable__label {background-color: #d4ebff;}#sk-container-id-1 input.sk-hidden--visually {border: 0;clip: rect(1px 1px 1px 1px);clip: rect(1px, 1px, 1px, 1px);height: 1px;margin: -1px;overflow: hidden;padding: 0;position: absolute;width: 1px;}#sk-container-id-1 div.sk-estimator {font-family: monospace;background-color: #f0f8ff;border: 1px dotted black;border-radius: 0.25em;box-sizing: border-box;margin-bottom: 0.5em;}#sk-container-id-1 div.sk-estimator:hover {background-color: #d4ebff;}#sk-container-id-1 div.sk-parallel-item::after {content: \"\";width: 100%;border-bottom: 1px solid gray;flex-grow: 1;}#sk-container-id-1 div.sk-label:hover label.sk-toggleable__label {background-color: #d4ebff;}#sk-container-id-1 div.sk-serial::before {content: \"\";position: absolute;border-left: 1px solid gray;box-sizing: border-box;top: 0;bottom: 0;left: 50%;z-index: 0;}#sk-container-id-1 div.sk-serial {display: flex;flex-direction: column;align-items: center;background-color: white;padding-right: 0.2em;padding-left: 0.2em;position: relative;}#sk-container-id-1 div.sk-item {position: relative;z-index: 1;}#sk-container-id-1 div.sk-parallel {display: flex;align-items: stretch;justify-content: center;background-color: white;position: relative;}#sk-container-id-1 div.sk-item::before, #sk-container-id-1 div.sk-parallel-item::before {content: \"\";position: absolute;border-left: 1px solid gray;box-sizing: border-box;top: 0;bottom: 0;left: 50%;z-index: -1;}#sk-container-id-1 div.sk-parallel-item {display: flex;flex-direction: column;z-index: 1;position: relative;background-color: white;}#sk-container-id-1 div.sk-parallel-item:first-child::after {align-self: flex-end;width: 50%;}#sk-container-id-1 div.sk-parallel-item:last-child::after {align-self: flex-start;width: 50%;}#sk-container-id-1 div.sk-parallel-item:only-child::after {width: 0;}#sk-container-id-1 div.sk-dashed-wrapped {border: 1px dashed gray;margin: 0 0.4em 0.5em 0.4em;box-sizing: border-box;padding-bottom: 0.4em;background-color: white;}#sk-container-id-1 div.sk-label label {font-family: monospace;font-weight: bold;display: inline-block;line-height: 1.2em;}#sk-container-id-1 div.sk-label-container {text-align: center;}#sk-container-id-1 div.sk-container {/* jupyter's `normalize.less` sets `[hidden] { display: none; }` but bootstrap.min.css set `[hidden] { display: none !important; }` so we also need the `!important` here to be able to override the default hidden behavior on the sphinx rendered scikit-learn.org. See: https://github.com/scikit-learn/scikit-learn/issues/21755 */display: inline-block !important;position: relative;}#sk-container-id-1 div.sk-text-repr-fallback {display: none;}</style><div id=\"sk-container-id-1\" class=\"sk-top-container\"><div class=\"sk-text-repr-fallback\"><pre>RandomForestClassifier(random_state=42)</pre><b>In a Jupyter environment, please rerun this cell to show the HTML representation or trust the notebook. <br />On GitHub, the HTML representation is unable to render, please try loading this page with nbviewer.org.</b></div><div class=\"sk-container\" hidden><div class=\"sk-item\"><div class=\"sk-estimator sk-toggleable\"><input class=\"sk-toggleable__control sk-hidden--visually\" id=\"sk-estimator-id-1\" type=\"checkbox\" checked><label for=\"sk-estimator-id-1\" class=\"sk-toggleable__label sk-toggleable__label-arrow\">RandomForestClassifier</label><div class=\"sk-toggleable__content\"><pre>RandomForestClassifier(random_state=42)</pre></div></div></div></div></div>"
      ],
      "text/plain": [
       "RandomForestClassifier(random_state=42)"
      ]
     },
     "execution_count": 20,
     "metadata": {},
     "output_type": "execute_result"
    }
   ],
   "source": [
    "from sklearn.ensemble import RandomForestClassifier\n",
    "\n",
    "# Criar o modelo RandomForest\n",
    "model = RandomForestClassifier(n_estimators=100, random_state=42)\n",
    "\n",
    "# Treinar o modelo\n",
    "model.fit(X_train, y_train)\n"
   ]
  },
  {
   "cell_type": "code",
   "execution_count": 21,
   "id": "aacbd6fb",
   "metadata": {
    "execution": {
     "iopub.execute_input": "2025-02-15T19:12:38.672306Z",
     "iopub.status.busy": "2025-02-15T19:12:38.671977Z",
     "iopub.status.idle": "2025-02-15T19:12:38.675527Z",
     "shell.execute_reply": "2025-02-15T19:12:38.674759Z"
    },
    "papermill": {
     "duration": 0.01728,
     "end_time": "2025-02-15T19:12:38.676866",
     "exception": false,
     "start_time": "2025-02-15T19:12:38.659586",
     "status": "completed"
    },
    "tags": []
   },
   "outputs": [],
   "source": [
    "#tratando o dataset de test "
   ]
  },
  {
   "cell_type": "code",
   "execution_count": 22,
   "id": "662631b6",
   "metadata": {
    "execution": {
     "iopub.execute_input": "2025-02-15T19:12:38.698790Z",
     "iopub.status.busy": "2025-02-15T19:12:38.698494Z",
     "iopub.status.idle": "2025-02-15T19:12:38.704409Z",
     "shell.execute_reply": "2025-02-15T19:12:38.703594Z"
    },
    "papermill": {
     "duration": 0.018521,
     "end_time": "2025-02-15T19:12:38.705845",
     "exception": false,
     "start_time": "2025-02-15T19:12:38.687324",
     "status": "completed"
    },
    "tags": []
   },
   "outputs": [],
   "source": [
    "test_data.drop('Cabin',axis=1, inplace=True)\n",
    "test_data.drop('Name',axis=1, inplace=True)\n",
    "test_data.drop('Ticket',axis=1, inplace=True)"
   ]
  },
  {
   "cell_type": "code",
   "execution_count": 23,
   "id": "5c32b68a",
   "metadata": {
    "execution": {
     "iopub.execute_input": "2025-02-15T19:12:38.727744Z",
     "iopub.status.busy": "2025-02-15T19:12:38.727438Z",
     "iopub.status.idle": "2025-02-15T19:12:38.734328Z",
     "shell.execute_reply": "2025-02-15T19:12:38.733571Z"
    },
    "papermill": {
     "duration": 0.019311,
     "end_time": "2025-02-15T19:12:38.735688",
     "exception": false,
     "start_time": "2025-02-15T19:12:38.716377",
     "status": "completed"
    },
    "tags": []
   },
   "outputs": [
    {
     "data": {
      "text/plain": [
       "PassengerId    0\n",
       "Survived       0\n",
       "Pclass         0\n",
       "Sex            0\n",
       "Age            0\n",
       "SibSp          0\n",
       "Parch          0\n",
       "Fare           0\n",
       "Embarked_C     0\n",
       "Embarked_Q     0\n",
       "Embarked_S     0\n",
       "dtype: int64"
      ]
     },
     "execution_count": 23,
     "metadata": {},
     "output_type": "execute_result"
    }
   ],
   "source": [
    "train_data.isnull().sum()"
   ]
  },
  {
   "cell_type": "code",
   "execution_count": 24,
   "id": "f131a61c",
   "metadata": {
    "execution": {
     "iopub.execute_input": "2025-02-15T19:12:38.757747Z",
     "iopub.status.busy": "2025-02-15T19:12:38.757447Z",
     "iopub.status.idle": "2025-02-15T19:12:38.763705Z",
     "shell.execute_reply": "2025-02-15T19:12:38.762964Z"
    },
    "papermill": {
     "duration": 0.018889,
     "end_time": "2025-02-15T19:12:38.765029",
     "exception": false,
     "start_time": "2025-02-15T19:12:38.746140",
     "status": "completed"
    },
    "tags": []
   },
   "outputs": [],
   "source": [
    "from sklearn.preprocessing import LabelEncoder\n",
    "test_data = pd.get_dummies(test_data, columns=['Embarked'], drop_first=False)"
   ]
  },
  {
   "cell_type": "code",
   "execution_count": 25,
   "id": "0a7ae45d",
   "metadata": {
    "execution": {
     "iopub.execute_input": "2025-02-15T19:12:38.786636Z",
     "iopub.status.busy": "2025-02-15T19:12:38.786339Z",
     "iopub.status.idle": "2025-02-15T19:12:38.791855Z",
     "shell.execute_reply": "2025-02-15T19:12:38.791001Z"
    },
    "papermill": {
     "duration": 0.018412,
     "end_time": "2025-02-15T19:12:38.793895",
     "exception": false,
     "start_time": "2025-02-15T19:12:38.775483",
     "status": "completed"
    },
    "tags": []
   },
   "outputs": [],
   "source": [
    "# Converter True/False para 0/1 nas colunas de Embarked\n",
    "test_data[['Embarked_C', 'Embarked_Q', 'Embarked_S']] = test_data[['Embarked_C', 'Embarked_Q', 'Embarked_S']].astype(int)\n"
   ]
  },
  {
   "cell_type": "code",
   "execution_count": 26,
   "id": "2ba5d946",
   "metadata": {
    "execution": {
     "iopub.execute_input": "2025-02-15T19:12:38.816455Z",
     "iopub.status.busy": "2025-02-15T19:12:38.816090Z",
     "iopub.status.idle": "2025-02-15T19:12:38.820762Z",
     "shell.execute_reply": "2025-02-15T19:12:38.820024Z"
    },
    "papermill": {
     "duration": 0.017273,
     "end_time": "2025-02-15T19:12:38.822106",
     "exception": false,
     "start_time": "2025-02-15T19:12:38.804833",
     "status": "completed"
    },
    "tags": []
   },
   "outputs": [],
   "source": [
    "# Converter 'Sex' para 0 e 1 (0 para male, 1 para female)\n",
    "test_data['Sex'] = test_data['Sex'].map({'male': 0, 'female': 1})"
   ]
  },
  {
   "cell_type": "code",
   "execution_count": 27,
   "id": "8989a4cc",
   "metadata": {
    "execution": {
     "iopub.execute_input": "2025-02-15T19:12:38.844225Z",
     "iopub.status.busy": "2025-02-15T19:12:38.843879Z",
     "iopub.status.idle": "2025-02-15T19:12:38.849734Z",
     "shell.execute_reply": "2025-02-15T19:12:38.848617Z"
    },
    "papermill": {
     "duration": 0.018879,
     "end_time": "2025-02-15T19:12:38.851350",
     "exception": false,
     "start_time": "2025-02-15T19:12:38.832471",
     "status": "completed"
    },
    "tags": []
   },
   "outputs": [
    {
     "name": "stdout",
     "output_type": "stream",
     "text": [
      "PassengerId     0\n",
      "Pclass          0\n",
      "Sex             0\n",
      "Age            86\n",
      "SibSp           0\n",
      "Parch           0\n",
      "Fare            1\n",
      "Embarked_C      0\n",
      "Embarked_Q      0\n",
      "Embarked_S      0\n",
      "dtype: int64\n"
     ]
    }
   ],
   "source": [
    "# Verificar valores NaN em test_data\n",
    "print(test_data.isnull().sum())\n"
   ]
  },
  {
   "cell_type": "code",
   "execution_count": 28,
   "id": "b2c7732f",
   "metadata": {
    "execution": {
     "iopub.execute_input": "2025-02-15T19:12:38.873512Z",
     "iopub.status.busy": "2025-02-15T19:12:38.873196Z",
     "iopub.status.idle": "2025-02-15T19:12:38.880690Z",
     "shell.execute_reply": "2025-02-15T19:12:38.879613Z"
    },
    "papermill": {
     "duration": 0.020625,
     "end_time": "2025-02-15T19:12:38.882510",
     "exception": false,
     "start_time": "2025-02-15T19:12:38.861885",
     "status": "completed"
    },
    "tags": []
   },
   "outputs": [
    {
     "name": "stdout",
     "output_type": "stream",
     "text": [
      "PassengerId    0\n",
      "Pclass         0\n",
      "Sex            0\n",
      "Age            0\n",
      "SibSp          0\n",
      "Parch          0\n",
      "Fare           0\n",
      "Embarked_C     0\n",
      "Embarked_Q     0\n",
      "Embarked_S     0\n",
      "dtype: int64\n"
     ]
    },
    {
     "name": "stderr",
     "output_type": "stream",
     "text": [
      "<ipython-input-28-fdc5157624de>:2: FutureWarning: A value is trying to be set on a copy of a DataFrame or Series through chained assignment using an inplace method.\n",
      "The behavior will change in pandas 3.0. This inplace method will never work because the intermediate object on which we are setting values always behaves as a copy.\n",
      "\n",
      "For example, when doing 'df[col].method(value, inplace=True)', try using 'df.method({col: value}, inplace=True)' or df[col] = df[col].method(value) instead, to perform the operation inplace on the original object.\n",
      "\n",
      "\n",
      "  test_data['Age'].fillna(test_data['Age'].median(), inplace=True)\n",
      "<ipython-input-28-fdc5157624de>:3: FutureWarning: A value is trying to be set on a copy of a DataFrame or Series through chained assignment using an inplace method.\n",
      "The behavior will change in pandas 3.0. This inplace method will never work because the intermediate object on which we are setting values always behaves as a copy.\n",
      "\n",
      "For example, when doing 'df[col].method(value, inplace=True)', try using 'df.method({col: value}, inplace=True)' or df[col] = df[col].method(value) instead, to perform the operation inplace on the original object.\n",
      "\n",
      "\n",
      "  test_data['Fare'].fillna(test_data['Fare'].median(), inplace=True)\n"
     ]
    }
   ],
   "source": [
    "# Preencher valores NaN com a mediana\n",
    "test_data['Age'].fillna(test_data['Age'].median(), inplace=True)\n",
    "test_data['Fare'].fillna(test_data['Fare'].median(), inplace=True)\n",
    "\n",
    "# Verificar se ainda há valores NaN\n",
    "print(test_data.isnull().sum())\n"
   ]
  },
  {
   "cell_type": "code",
   "execution_count": 29,
   "id": "8480b2a3",
   "metadata": {
    "execution": {
     "iopub.execute_input": "2025-02-15T19:12:38.905091Z",
     "iopub.status.busy": "2025-02-15T19:12:38.904729Z",
     "iopub.status.idle": "2025-02-15T19:12:38.915880Z",
     "shell.execute_reply": "2025-02-15T19:12:38.915045Z"
    },
    "papermill": {
     "duration": 0.023954,
     "end_time": "2025-02-15T19:12:38.917282",
     "exception": false,
     "start_time": "2025-02-15T19:12:38.893328",
     "status": "completed"
    },
    "tags": []
   },
   "outputs": [
    {
     "data": {
      "text/html": [
       "<div>\n",
       "<style scoped>\n",
       "    .dataframe tbody tr th:only-of-type {\n",
       "        vertical-align: middle;\n",
       "    }\n",
       "\n",
       "    .dataframe tbody tr th {\n",
       "        vertical-align: top;\n",
       "    }\n",
       "\n",
       "    .dataframe thead th {\n",
       "        text-align: right;\n",
       "    }\n",
       "</style>\n",
       "<table border=\"1\" class=\"dataframe\">\n",
       "  <thead>\n",
       "    <tr style=\"text-align: right;\">\n",
       "      <th></th>\n",
       "      <th>PassengerId</th>\n",
       "      <th>Pclass</th>\n",
       "      <th>Sex</th>\n",
       "      <th>Age</th>\n",
       "      <th>SibSp</th>\n",
       "      <th>Parch</th>\n",
       "      <th>Fare</th>\n",
       "      <th>Embarked_C</th>\n",
       "      <th>Embarked_Q</th>\n",
       "      <th>Embarked_S</th>\n",
       "    </tr>\n",
       "  </thead>\n",
       "  <tbody>\n",
       "    <tr>\n",
       "      <th>0</th>\n",
       "      <td>892</td>\n",
       "      <td>3</td>\n",
       "      <td>0</td>\n",
       "      <td>34.5</td>\n",
       "      <td>0</td>\n",
       "      <td>0</td>\n",
       "      <td>7.8292</td>\n",
       "      <td>0</td>\n",
       "      <td>1</td>\n",
       "      <td>0</td>\n",
       "    </tr>\n",
       "    <tr>\n",
       "      <th>1</th>\n",
       "      <td>893</td>\n",
       "      <td>3</td>\n",
       "      <td>1</td>\n",
       "      <td>47.0</td>\n",
       "      <td>1</td>\n",
       "      <td>0</td>\n",
       "      <td>7.0000</td>\n",
       "      <td>0</td>\n",
       "      <td>0</td>\n",
       "      <td>1</td>\n",
       "    </tr>\n",
       "    <tr>\n",
       "      <th>2</th>\n",
       "      <td>894</td>\n",
       "      <td>2</td>\n",
       "      <td>0</td>\n",
       "      <td>62.0</td>\n",
       "      <td>0</td>\n",
       "      <td>0</td>\n",
       "      <td>9.6875</td>\n",
       "      <td>0</td>\n",
       "      <td>1</td>\n",
       "      <td>0</td>\n",
       "    </tr>\n",
       "    <tr>\n",
       "      <th>3</th>\n",
       "      <td>895</td>\n",
       "      <td>3</td>\n",
       "      <td>0</td>\n",
       "      <td>27.0</td>\n",
       "      <td>0</td>\n",
       "      <td>0</td>\n",
       "      <td>8.6625</td>\n",
       "      <td>0</td>\n",
       "      <td>0</td>\n",
       "      <td>1</td>\n",
       "    </tr>\n",
       "    <tr>\n",
       "      <th>4</th>\n",
       "      <td>896</td>\n",
       "      <td>3</td>\n",
       "      <td>1</td>\n",
       "      <td>22.0</td>\n",
       "      <td>1</td>\n",
       "      <td>1</td>\n",
       "      <td>12.2875</td>\n",
       "      <td>0</td>\n",
       "      <td>0</td>\n",
       "      <td>1</td>\n",
       "    </tr>\n",
       "  </tbody>\n",
       "</table>\n",
       "</div>"
      ],
      "text/plain": [
       "   PassengerId  Pclass  Sex   Age  SibSp  Parch     Fare  Embarked_C  \\\n",
       "0          892       3    0  34.5      0      0   7.8292           0   \n",
       "1          893       3    1  47.0      1      0   7.0000           0   \n",
       "2          894       2    0  62.0      0      0   9.6875           0   \n",
       "3          895       3    0  27.0      0      0   8.6625           0   \n",
       "4          896       3    1  22.0      1      1  12.2875           0   \n",
       "\n",
       "   Embarked_Q  Embarked_S  \n",
       "0           1           0  \n",
       "1           0           1  \n",
       "2           1           0  \n",
       "3           0           1  \n",
       "4           0           1  "
      ]
     },
     "execution_count": 29,
     "metadata": {},
     "output_type": "execute_result"
    }
   ],
   "source": [
    "test_data.head()"
   ]
  },
  {
   "cell_type": "code",
   "execution_count": 30,
   "id": "fa73eadf",
   "metadata": {
    "execution": {
     "iopub.execute_input": "2025-02-15T19:12:38.940142Z",
     "iopub.status.busy": "2025-02-15T19:12:38.939804Z",
     "iopub.status.idle": "2025-02-15T19:12:39.144976Z",
     "shell.execute_reply": "2025-02-15T19:12:39.143874Z"
    },
    "papermill": {
     "duration": 0.218216,
     "end_time": "2025-02-15T19:12:39.146515",
     "exception": false,
     "start_time": "2025-02-15T19:12:38.928299",
     "status": "completed"
    },
    "tags": []
   },
   "outputs": [
    {
     "name": "stdout",
     "output_type": "stream",
     "text": [
      "Acurácia do modelo: 0.8101\n"
     ]
    }
   ],
   "source": [
    "from sklearn.model_selection import train_test_split\n",
    "from sklearn.ensemble import RandomForestClassifier\n",
    "from sklearn.metrics import accuracy_score\n",
    "\n",
    "# Definir features e target\n",
    "features = ['Pclass', 'Sex', 'Age', 'SibSp', 'Parch', 'Fare', 'Embarked_C', 'Embarked_Q', 'Embarked_S']\n",
    "target = 'Survived'\n",
    "\n",
    "# Separar features e target no conjunto de treino\n",
    "X = train_data[features]\n",
    "y = train_data[target]\n",
    "\n",
    "# Dividir em treino (80%) e validação (20%)\n",
    "X_train, X_val, y_train, y_val = train_test_split(X, y, test_size=0.2, random_state=42)\n",
    "\n",
    "# Criar e treinar o modelo\n",
    "model = RandomForestClassifier(n_estimators=100, random_state=42)\n",
    "model.fit(X_train, y_train)\n",
    "\n",
    "# Fazer previsões no conjunto de validação\n",
    "y_pred = model.predict(X_val)\n",
    "\n",
    "# Avaliar o modelo\n",
    "accuracy = accuracy_score(y_val, y_pred)\n",
    "print(f'Acurácia do modelo: {accuracy:.4f}')\n"
   ]
  },
  {
   "cell_type": "code",
   "execution_count": 31,
   "id": "9ec50fe4",
   "metadata": {
    "execution": {
     "iopub.execute_input": "2025-02-15T19:12:39.169590Z",
     "iopub.status.busy": "2025-02-15T19:12:39.169285Z",
     "iopub.status.idle": "2025-02-15T19:12:39.193317Z",
     "shell.execute_reply": "2025-02-15T19:12:39.192333Z"
    },
    "papermill": {
     "duration": 0.036914,
     "end_time": "2025-02-15T19:12:39.194743",
     "exception": false,
     "start_time": "2025-02-15T19:12:39.157829",
     "status": "completed"
    },
    "tags": []
   },
   "outputs": [
    {
     "name": "stdout",
     "output_type": "stream",
     "text": [
      "Arquivo submission.csv criado com sucesso!\n"
     ]
    }
   ],
   "source": [
    "# Fazer previsões no conjunto de teste\n",
    "test_predictions = model.predict(test_data[features])\n",
    "\n",
    "# Criar um DataFrame para submissão\n",
    "submission = pd.DataFrame({\n",
    "    'PassengerId': test_data['PassengerId'],\n",
    "    'Survived': test_predictions\n",
    "})\n",
    "\n",
    "# Salvar como CSV (sem índice)\n",
    "submission.to_csv('submission.csv', index=False)\n",
    "\n",
    "print(\"Arquivo submission.csv criado com sucesso!\")\n"
   ]
  },
  {
   "cell_type": "code",
   "execution_count": 32,
   "id": "6c5c2444",
   "metadata": {
    "execution": {
     "iopub.execute_input": "2025-02-15T19:12:39.217546Z",
     "iopub.status.busy": "2025-02-15T19:12:39.217224Z",
     "iopub.status.idle": "2025-02-15T19:12:39.224977Z",
     "shell.execute_reply": "2025-02-15T19:12:39.224045Z"
    },
    "papermill": {
     "duration": 0.02056,
     "end_time": "2025-02-15T19:12:39.226468",
     "exception": false,
     "start_time": "2025-02-15T19:12:39.205908",
     "status": "completed"
    },
    "tags": []
   },
   "outputs": [
    {
     "data": {
      "text/html": [
       "<div>\n",
       "<style scoped>\n",
       "    .dataframe tbody tr th:only-of-type {\n",
       "        vertical-align: middle;\n",
       "    }\n",
       "\n",
       "    .dataframe tbody tr th {\n",
       "        vertical-align: top;\n",
       "    }\n",
       "\n",
       "    .dataframe thead th {\n",
       "        text-align: right;\n",
       "    }\n",
       "</style>\n",
       "<table border=\"1\" class=\"dataframe\">\n",
       "  <thead>\n",
       "    <tr style=\"text-align: right;\">\n",
       "      <th></th>\n",
       "      <th>PassengerId</th>\n",
       "      <th>Survived</th>\n",
       "    </tr>\n",
       "  </thead>\n",
       "  <tbody>\n",
       "    <tr>\n",
       "      <th>0</th>\n",
       "      <td>892</td>\n",
       "      <td>0</td>\n",
       "    </tr>\n",
       "    <tr>\n",
       "      <th>1</th>\n",
       "      <td>893</td>\n",
       "      <td>0</td>\n",
       "    </tr>\n",
       "    <tr>\n",
       "      <th>2</th>\n",
       "      <td>894</td>\n",
       "      <td>0</td>\n",
       "    </tr>\n",
       "    <tr>\n",
       "      <th>3</th>\n",
       "      <td>895</td>\n",
       "      <td>1</td>\n",
       "    </tr>\n",
       "    <tr>\n",
       "      <th>4</th>\n",
       "      <td>896</td>\n",
       "      <td>0</td>\n",
       "    </tr>\n",
       "  </tbody>\n",
       "</table>\n",
       "</div>"
      ],
      "text/plain": [
       "   PassengerId  Survived\n",
       "0          892         0\n",
       "1          893         0\n",
       "2          894         0\n",
       "3          895         1\n",
       "4          896         0"
      ]
     },
     "execution_count": 32,
     "metadata": {},
     "output_type": "execute_result"
    }
   ],
   "source": [
    "submission.head()"
   ]
  },
  {
   "cell_type": "code",
   "execution_count": 33,
   "id": "38bde082",
   "metadata": {
    "execution": {
     "iopub.execute_input": "2025-02-15T19:12:39.249460Z",
     "iopub.status.busy": "2025-02-15T19:12:39.249161Z",
     "iopub.status.idle": "2025-02-15T19:12:39.255775Z",
     "shell.execute_reply": "2025-02-15T19:12:39.254965Z"
    },
    "papermill": {
     "duration": 0.019548,
     "end_time": "2025-02-15T19:12:39.257104",
     "exception": false,
     "start_time": "2025-02-15T19:12:39.237556",
     "status": "completed"
    },
    "tags": []
   },
   "outputs": [
    {
     "name": "stdout",
     "output_type": "stream",
     "text": [
      "Total de linhas: 418\n"
     ]
    }
   ],
   "source": [
    "# Carregar o arquivo\n",
    "df = pd.read_csv(\"submission.csv\")\n",
    "\n",
    "# Contar as linhas\n",
    "print(f\"Total de linhas: {len(df)}\")\n"
   ]
  },
  {
   "cell_type": "code",
   "execution_count": null,
   "id": "078a59bd",
   "metadata": {
    "papermill": {
     "duration": 0.010957,
     "end_time": "2025-02-15T19:12:39.279702",
     "exception": false,
     "start_time": "2025-02-15T19:12:39.268745",
     "status": "completed"
    },
    "tags": []
   },
   "outputs": [],
   "source": []
  }
 ],
 "metadata": {
  "kaggle": {
   "accelerator": "none",
   "dataSources": [
    {
     "databundleVersionId": 26502,
     "sourceId": 3136,
     "sourceType": "competition"
    }
   ],
   "dockerImageVersionId": 30886,
   "isGpuEnabled": false,
   "isInternetEnabled": true,
   "language": "python",
   "sourceType": "notebook"
  },
  "kernelspec": {
   "display_name": "Python 3",
   "language": "python",
   "name": "python3"
  },
  "language_info": {
   "codemirror_mode": {
    "name": "ipython",
    "version": 3
   },
   "file_extension": ".py",
   "mimetype": "text/x-python",
   "name": "python",
   "nbconvert_exporter": "python",
   "pygments_lexer": "ipython3",
   "version": "3.10.12"
  },
  "papermill": {
   "default_parameters": {},
   "duration": 9.208999,
   "end_time": "2025-02-15T19:12:40.010759",
   "environment_variables": {},
   "exception": null,
   "input_path": "__notebook__.ipynb",
   "output_path": "__notebook__.ipynb",
   "parameters": {},
   "start_time": "2025-02-15T19:12:30.801760",
   "version": "2.6.0"
  }
 },
 "nbformat": 4,
 "nbformat_minor": 5
}
